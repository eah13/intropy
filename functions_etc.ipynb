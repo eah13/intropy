{
 "metadata": {
  "name": "functions etc"
 },
 "nbformat": 3,
 "nbformat_minor": 0,
 "worksheets": [
  {
   "cells": [
    {
     "cell_type": "code",
     "collapsed": false,
     "input": [
      "def print_5_times(text):\n",
      "    for i in range(5):\n",
      "        print text\n",
      "        \n",
      "print_5_times(\"it works\")\n",
      "\n",
      "#print_5_times(it doesnt work)"
     ],
     "language": "python",
     "metadata": {},
     "outputs": [
      {
       "output_type": "stream",
       "stream": "stdout",
       "text": [
        "it works\n",
        "it works\n",
        "it works\n",
        "it works\n",
        "it works\n"
       ]
      }
     ],
     "prompt_number": 7
    },
    {
     "cell_type": "code",
     "collapsed": false,
     "input": [
      "def print_x_times(text, x):\n",
      "    for i in range(x):\n",
      "        print text\n",
      "        \n",
      "print_x_times(\"this also works\", 3)"
     ],
     "language": "python",
     "metadata": {},
     "outputs": [
      {
       "output_type": "stream",
       "stream": "stdout",
       "text": [
        "this also works\n",
        "this also works\n",
        "this also works\n"
       ]
      }
     ],
     "prompt_number": 9
    },
    {
     "cell_type": "code",
     "collapsed": false,
     "input": [
      "def lazy_print(text, x):\n",
      "    if x < 10:\n",
      "        print_x_times(text, x)\n",
      "    else:\n",
      "        print \"I don't do Big Data, ok?\"\n",
      "        \n",
      "lazy_print(\"data\", 9)\n",
      "lazy_print(\"data\",1000)\n"
     ],
     "language": "python",
     "metadata": {},
     "outputs": [
      {
       "output_type": "stream",
       "stream": "stdout",
       "text": [
        "data\n",
        "data\n",
        "data\n",
        "data\n",
        "data\n",
        "data\n",
        "data\n",
        "data\n",
        "data\n",
        "I don't do Big Data, ok?\n"
       ]
      }
     ],
     "prompt_number": 10
    }
   ],
   "metadata": {}
  }
 ]
}